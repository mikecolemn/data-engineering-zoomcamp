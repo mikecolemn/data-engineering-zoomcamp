{
 "cells": [
  {
   "cell_type": "code",
   "execution_count": 1,
   "id": "63f2ebbe",
   "metadata": {},
   "outputs": [],
   "source": [
    "import pandas as pd"
   ]
  },
  {
   "cell_type": "code",
   "execution_count": 28,
   "id": "226175f4",
   "metadata": {},
   "outputs": [],
   "source": [
    "df = pd.read_csv(\"https://github.com/DataTalksClub/nyc-tlc-data/releases/download/fhv/fhv_tripdata_2019-10.csv.gz\")"
   ]
  },
  {
   "cell_type": "code",
   "execution_count": 29,
   "id": "088e0955",
   "metadata": {},
   "outputs": [
    {
     "name": "stdout",
     "output_type": "stream",
     "text": [
      "        dispatching_base_num      pickup_datetime     dropOff_datetime  \\\n",
      "0                     B00009  2019-10-01 00:23:00  2019-10-01 00:35:00   \n",
      "1                     B00013  2019-10-01 00:11:29  2019-10-01 00:13:22   \n",
      "2                     B00014  2019-10-01 00:11:43  2019-10-01 00:37:20   \n",
      "3                     B00014  2019-10-01 00:56:29  2019-10-01 00:57:47   \n",
      "4                     B00014  2019-10-01 00:23:09  2019-10-01 00:28:27   \n",
      "...                      ...                  ...                  ...   \n",
      "1897488               B03160  2019-10-31 23:38:00  2019-10-31 23:48:00   \n",
      "1897489               B03160  2019-10-31 23:11:00  2019-10-31 23:43:00   \n",
      "1897490               B03160  2019-10-31 23:13:00  2019-10-31 23:41:00   \n",
      "1897491               B03186  2019-10-31 23:02:32  2019-10-31 23:09:53   \n",
      "1897492               B03186  2019-10-31 23:19:24  2019-10-31 23:24:31   \n",
      "\n",
      "         PUlocationID  DOlocationID  SR_Flag Affiliated_base_number  \n",
      "0               264.0         264.0      NaN                 B00009  \n",
      "1               264.0         264.0      NaN                 B00013  \n",
      "2               264.0         264.0      NaN                 B00014  \n",
      "3               264.0         264.0      NaN                 B00014  \n",
      "4               264.0         264.0      NaN                 B00014  \n",
      "...               ...           ...      ...                    ...  \n",
      "1897488         242.0          81.0      NaN                 B02887  \n",
      "1897489         161.0          28.0      NaN                 B02883  \n",
      "1897490         168.0         215.0      NaN                 B02883  \n",
      "1897491         264.0         119.0      NaN                 B03186  \n",
      "1897492         264.0         119.0      NaN                 B03186  \n",
      "\n",
      "[1897493 rows x 7 columns]\n"
     ]
    }
   ],
   "source": [
    "print(df)"
   ]
  },
  {
   "cell_type": "code",
   "execution_count": 16,
   "id": "79bfc4a4",
   "metadata": {},
   "outputs": [
    {
     "name": "stdout",
     "output_type": "stream",
     "text": [
      "VendorID                 float64\n",
      "tpep_pickup_datetime      object\n",
      "tpep_dropoff_datetime     object\n",
      "passenger_count          float64\n",
      "trip_distance            float64\n",
      "RatecodeID               float64\n",
      "store_and_fwd_flag        object\n",
      "PULocationID               int64\n",
      "DOLocationID               int64\n",
      "payment_type             float64\n",
      "fare_amount              float64\n",
      "extra                    float64\n",
      "mta_tax                  float64\n",
      "tip_amount               float64\n",
      "tolls_amount             float64\n",
      "improvement_surcharge    float64\n",
      "total_amount             float64\n",
      "congestion_surcharge     float64\n",
      "dtype: object\n"
     ]
    }
   ],
   "source": [
    "print(df.dtypes)"
   ]
  },
  {
   "cell_type": "code",
   "execution_count": 24,
   "id": "39120447",
   "metadata": {},
   "outputs": [],
   "source": [
    "df = df.astype({'VendorID': 'Int64',\n",
    "'lpep_pickup_datetime': 'datetime64',\n",
    "'lpep_dropoff_datetime': 'datetime64',\n",
    "'store_and_fwd_flag': 'object',\n",
    "'RatecodeID': 'Int64',\n",
    "'PULocationID':'Int64',\n",
    "'DOLocationID': 'Int64',\n",
    "'passenger_count': 'Int64',\n",
    "'trip_distance': 'float64',\n",
    "'fare_amount': 'float64',\n",
    "'extra': 'float64',\n",
    "'mta_tax': 'float64',\n",
    "'tip_amount': 'float64',\n",
    "'tolls_amount': 'float64',\n",
    "'ehail_fee': 'float64',\n",
    "'improvement_surcharge': 'float64',\n",
    "'total_amount': 'float64',\n",
    "'payment_type': 'Int64',\n",
    "'trip_type': 'Int64',\n",
    "'congestion_surcharge': 'float64'})"
   ]
  },
  {
   "cell_type": "code",
   "execution_count": 25,
   "id": "701376b4",
   "metadata": {},
   "outputs": [
    {
     "name": "stdout",
     "output_type": "stream",
     "text": [
      "        VendorID lpep_pickup_datetime lpep_dropoff_datetime  \\\n",
      "0              2  2020-03-01 00:20:18   2020-03-01 00:45:29   \n",
      "1              2  2020-03-01 00:15:42   2020-03-01 00:44:36   \n",
      "2              2  2020-03-01 00:36:18   2020-03-01 00:41:03   \n",
      "3              1  2020-03-01 00:22:14   2020-03-01 00:32:57   \n",
      "4              2  2020-03-01 00:07:22   2020-03-01 00:14:16   \n",
      "...          ...                  ...                   ...   \n",
      "223401      <NA>  2020-03-31 22:00:00   2020-03-31 22:13:00   \n",
      "223402      <NA>  2020-03-31 23:21:00   2020-03-31 23:35:00   \n",
      "223403      <NA>  2020-03-31 23:38:00   2020-03-31 23:50:00   \n",
      "223404      <NA>  2020-03-31 23:13:00   2020-03-31 23:42:00   \n",
      "223405      <NA>  2020-03-31 23:55:00   2020-04-01 00:15:00   \n",
      "\n",
      "       store_and_fwd_flag  RatecodeID  PULocationID  DOLocationID  \\\n",
      "0                       N           1            41            13   \n",
      "1                       N           1           181           107   \n",
      "2                       N           1            41           166   \n",
      "3                       N           1           129             7   \n",
      "4                       N           1            74           152   \n",
      "...                   ...         ...           ...           ...   \n",
      "223401                NaN        <NA>           173            82   \n",
      "223402                NaN        <NA>           159           241   \n",
      "223403                NaN        <NA>            19            64   \n",
      "223404                NaN        <NA>           222            97   \n",
      "223405                NaN        <NA>           247            81   \n",
      "\n",
      "        passenger_count  trip_distance  fare_amount  extra  mta_tax  \\\n",
      "0                     1           8.24        26.50    0.5      0.5   \n",
      "1                     1           4.87        21.00    0.5      0.5   \n",
      "2                     1           0.69         5.00    0.5      0.5   \n",
      "3                     1           1.80         9.00    0.5      0.5   \n",
      "4                     1           1.25         7.00    0.5      0.5   \n",
      "...                 ...            ...          ...    ...      ...   \n",
      "223401             <NA>           2.28        10.00    0.0      0.0   \n",
      "223402             <NA>           5.29        15.44    0.0      0.0   \n",
      "223403             <NA>           3.16        14.32    0.0      0.0   \n",
      "223404             <NA>           7.87        62.37    0.0      0.0   \n",
      "223405             <NA>           8.44        17.94    0.0      0.0   \n",
      "\n",
      "        tip_amount  tolls_amount  ehail_fee  improvement_surcharge  \\\n",
      "0             7.64           0.0        NaN                    0.3   \n",
      "1             0.00           0.0        NaN                    0.3   \n",
      "2             0.00           0.0        NaN                    0.3   \n",
      "3             0.00           0.0        NaN                    0.3   \n",
      "4             2.49           0.0        NaN                    0.3   \n",
      "...            ...           ...        ...                    ...   \n",
      "223401        2.06           0.0        NaN                    0.3   \n",
      "223402        0.00           0.0        NaN                    0.3   \n",
      "223403        0.00           0.0        NaN                    0.3   \n",
      "223404        0.00           0.0        NaN                    0.3   \n",
      "223405        0.00           0.0        NaN                    0.3   \n",
      "\n",
      "        total_amount  payment_type  trip_type  congestion_surcharge  \n",
      "0              38.19             1          1                  2.75  \n",
      "1              25.05             2          1                  2.75  \n",
      "2               6.30             2          1                  0.00  \n",
      "3              10.30             2          1                  0.00  \n",
      "4              10.79             1          1                  0.00  \n",
      "...              ...           ...        ...                   ...  \n",
      "223401         12.36          <NA>       <NA>                   NaN  \n",
      "223402         15.74          <NA>       <NA>                   NaN  \n",
      "223403         14.62          <NA>       <NA>                   NaN  \n",
      "223404         62.67          <NA>       <NA>                   NaN  \n",
      "223405         18.24          <NA>       <NA>                   NaN  \n",
      "\n",
      "[223406 rows x 20 columns]\n"
     ]
    }
   ],
   "source": [
    "print(df)"
   ]
  },
  {
   "cell_type": "code",
   "execution_count": 26,
   "id": "24acb4e6",
   "metadata": {},
   "outputs": [
    {
     "name": "stdout",
     "output_type": "stream",
     "text": [
      "VendorID                          Int64\n",
      "lpep_pickup_datetime     datetime64[ns]\n",
      "lpep_dropoff_datetime    datetime64[ns]\n",
      "store_and_fwd_flag               object\n",
      "RatecodeID                        Int64\n",
      "PULocationID                      Int64\n",
      "DOLocationID                      Int64\n",
      "passenger_count                   Int64\n",
      "trip_distance                   float64\n",
      "fare_amount                     float64\n",
      "extra                           float64\n",
      "mta_tax                         float64\n",
      "tip_amount                      float64\n",
      "tolls_amount                    float64\n",
      "ehail_fee                       float64\n",
      "improvement_surcharge           float64\n",
      "total_amount                    float64\n",
      "payment_type                      Int64\n",
      "trip_type                         Int64\n",
      "congestion_surcharge            float64\n",
      "dtype: object\n"
     ]
    }
   ],
   "source": [
    "print(df.dtypes)"
   ]
  },
  {
   "cell_type": "code",
   "execution_count": 10,
   "id": "a7916a6d",
   "metadata": {},
   "outputs": [
    {
     "name": "stdout",
     "output_type": "stream",
     "text": [
      "{'VendorID': Int64Dtype(), 'tpep_pickup_datetime': dtype('O'), 'tpep_dropoff_datetime': dtype('O'), 'passenger_count': dtype('float64'), 'trip_distance': dtype('float64'), 'RatecodeID': dtype('float64'), 'store_and_fwd_flag': dtype('O'), 'PULocationID': dtype('int64'), 'DOLocationID': dtype('int64'), 'payment_type': dtype('float64'), 'fare_amount': dtype('float64'), 'extra': dtype('float64'), 'mta_tax': dtype('float64'), 'tip_amount': dtype('float64'), 'tolls_amount': dtype('float64'), 'improvement_surcharge': dtype('float64'), 'total_amount': dtype('float64'), 'congestion_surcharge': dtype('float64')}\n"
     ]
    }
   ],
   "source": [
    "print(df.dtypes.to_dict())"
   ]
  },
  {
   "cell_type": "code",
   "execution_count": 30,
   "id": "db604b7b",
   "metadata": {},
   "outputs": [
    {
     "name": "stdout",
     "output_type": "stream",
     "text": [
      "{'dispatching_base_num': 'object', 'pickup_datetime': 'object', 'dropOff_datetime': 'object', 'PUlocationID': 'float64', 'DOlocationID': 'float64', 'SR_Flag': 'float64', 'Affiliated_base_number': 'object'}\n"
     ]
    }
   ],
   "source": [
    "print(df.dtypes.apply(lambda x: x.name).to_dict())"
   ]
  },
  {
   "cell_type": "code",
   "execution_count": 12,
   "id": "01348c80",
   "metadata": {},
   "outputs": [],
   "source": [
    "df['tpep_pickup_datetime'] = pd.to_datetime(df['tpep_pickup_datetime'])\n",
    "df['tpep_dropoff_datetime'] = pd.to_datetime(df['tpep_dropoff_datetime'])"
   ]
  },
  {
   "cell_type": "code",
   "execution_count": 27,
   "id": "ba6c5606",
   "metadata": {
    "scrolled": true
   },
   "outputs": [
    {
     "name": "stdout",
     "output_type": "stream",
     "text": [
      "VendorID                          Int64\n",
      "lpep_pickup_datetime     datetime64[ns]\n",
      "lpep_dropoff_datetime    datetime64[ns]\n",
      "store_and_fwd_flag               object\n",
      "RatecodeID                        Int64\n",
      "PULocationID                      Int64\n",
      "DOLocationID                      Int64\n",
      "passenger_count                   Int64\n",
      "trip_distance                   float64\n",
      "fare_amount                     float64\n",
      "extra                           float64\n",
      "mta_tax                         float64\n",
      "tip_amount                      float64\n",
      "tolls_amount                    float64\n",
      "ehail_fee                       float64\n",
      "improvement_surcharge           float64\n",
      "total_amount                    float64\n",
      "payment_type                      Int64\n",
      "trip_type                         Int64\n",
      "congestion_surcharge            float64\n",
      "dtype: object\n"
     ]
    }
   ],
   "source": [
    "print(df.dtypes)"
   ]
  },
  {
   "cell_type": "code",
   "execution_count": null,
   "id": "f7b93b60",
   "metadata": {},
   "outputs": [],
   "source": []
  }
 ],
 "metadata": {
  "kernelspec": {
   "display_name": "Python 3 (ipykernel)",
   "language": "python",
   "name": "python3"
  },
  "language_info": {
   "codemirror_mode": {
    "name": "ipython",
    "version": 3
   },
   "file_extension": ".py",
   "mimetype": "text/x-python",
   "name": "python",
   "nbconvert_exporter": "python",
   "pygments_lexer": "ipython3",
   "version": "3.9.13"
  }
 },
 "nbformat": 4,
 "nbformat_minor": 5
}
