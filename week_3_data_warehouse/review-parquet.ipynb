{
 "cells": [
  {
   "cell_type": "code",
   "execution_count": 3,
   "id": "fb1295f5",
   "metadata": {},
   "outputs": [],
   "source": [
    "import pandas as pd"
   ]
  },
  {
   "cell_type": "code",
   "execution_count": 4,
   "id": "c8e6dc4f",
   "metadata": {},
   "outputs": [
    {
     "data": {
      "text/plain": [
       "'1.4.4'"
      ]
     },
     "execution_count": 4,
     "metadata": {},
     "output_type": "execute_result"
    }
   ],
   "source": [
    "pd.__version__"
   ]
  },
  {
   "cell_type": "code",
   "execution_count": 11,
   "id": "e9d5bb7d",
   "metadata": {},
   "outputs": [],
   "source": [
    "df = pd.read_parquet(\"data/yellow/yellow_tripdata_2019-11.parquet\")"
   ]
  },
  {
   "cell_type": "code",
   "execution_count": 12,
   "id": "b50510a0",
   "metadata": {},
   "outputs": [
    {
     "name": "stdout",
     "output_type": "stream",
     "text": [
      "        VendorID tpep_pickup_datetime tpep_dropoff_datetime  passenger_count  \\\n",
      "0              1  2019-11-01 00:30:41   2019-11-01 00:32:25              1.0   \n",
      "1              1  2019-11-01 00:34:01   2019-11-01 00:34:09              1.0   \n",
      "2              2  2019-11-01 00:41:59   2019-11-01 00:42:23              1.0   \n",
      "3              2  2019-11-01 00:02:39   2019-11-01 00:02:51              1.0   \n",
      "4              2  2019-11-01 00:18:30   2019-11-01 00:18:39              2.0   \n",
      "...          ...                  ...                   ...              ...   \n",
      "6878106     None  2019-11-27 12:57:00   2019-11-27 13:06:00              NaN   \n",
      "6878107     None  2019-11-27 12:23:00   2019-11-27 12:38:00              NaN   \n",
      "6878108     None  2019-11-27 12:11:00   2019-11-27 12:44:00              NaN   \n",
      "6878109     None  2019-11-27 12:46:42   2019-11-27 13:30:58              NaN   \n",
      "6878110     None  2019-11-27 12:53:00   2019-11-27 13:07:00              NaN   \n",
      "\n",
      "         trip_distance  RatecodeID store_and_fwd_flag  PULocationID  \\\n",
      "0                 0.00         1.0                  N           145   \n",
      "1                 0.00         1.0                  N           145   \n",
      "2                 0.00         1.0                  N           193   \n",
      "3                 0.00         1.0                  N           193   \n",
      "4                 0.00         1.0                  N           226   \n",
      "...                ...         ...                ...           ...   \n",
      "6878106          -0.83         NaN               None            62   \n",
      "6878107           2.23         NaN               None            91   \n",
      "6878108           8.60         NaN               None           142   \n",
      "6878109          11.27         NaN               None           137   \n",
      "6878110           7.48         NaN               None           108   \n",
      "\n",
      "         DOLocationID  payment_type  fare_amount  extra  mta_tax  tip_amount  \\\n",
      "0                 145           2.0         3.00   0.50      0.5        0.00   \n",
      "1                 145           2.0         2.50   0.50      0.5        0.00   \n",
      "2                 193           1.0         2.50   0.50      0.5        0.95   \n",
      "3                 193           1.0         2.50   0.50      0.5        0.95   \n",
      "4                 226           2.0         2.50   0.00      0.5        0.00   \n",
      "...               ...           ...          ...    ...      ...         ...   \n",
      "6878106            89           NaN        20.87   2.75      0.5        0.00   \n",
      "6878107            71           NaN        17.44   2.75      0.5        0.00   \n",
      "6878108            33           NaN        42.95   2.75      0.5        0.00   \n",
      "6878109           180           NaN        40.03   2.75      0.0        0.00   \n",
      "6878110           228           NaN        23.36   2.75      0.5        0.00   \n",
      "\n",
      "         tolls_amount  improvement_surcharge  total_amount  \\\n",
      "0                0.00                    0.3          4.30   \n",
      "1                0.00                    0.3          3.80   \n",
      "2                0.00                    0.3          4.75   \n",
      "3                0.00                    0.3          4.75   \n",
      "4                0.00                    0.3          3.30   \n",
      "...               ...                    ...           ...   \n",
      "6878106          0.00                    0.3         24.42   \n",
      "6878107          0.00                    0.3         20.99   \n",
      "6878108          0.00                    0.3         46.50   \n",
      "6878109          6.12                    0.3         49.20   \n",
      "6878110          0.00                    0.3         26.91   \n",
      "\n",
      "         congestion_surcharge  \n",
      "0                         0.0  \n",
      "1                         0.0  \n",
      "2                         0.0  \n",
      "3                         0.0  \n",
      "4                         0.0  \n",
      "...                       ...  \n",
      "6878106                   0.0  \n",
      "6878107                   0.0  \n",
      "6878108                   0.0  \n",
      "6878109                   0.0  \n",
      "6878110                   0.0  \n",
      "\n",
      "[6878111 rows x 18 columns]\n"
     ]
    }
   ],
   "source": [
    "print(df)"
   ]
  },
  {
   "cell_type": "code",
   "execution_count": 8,
   "id": "9a9839e6",
   "metadata": {},
   "outputs": [
    {
     "name": "stdout",
     "output_type": "stream",
     "text": [
      "VendorID                         object\n",
      "tpep_pickup_datetime     datetime64[ns]\n",
      "tpep_dropoff_datetime    datetime64[ns]\n",
      "passenger_count                 float64\n",
      "trip_distance                   float64\n",
      "RatecodeID                        int64\n",
      "store_and_fwd_flag               object\n",
      "PULocationID                      int64\n",
      "DOLocationID                      int64\n",
      "payment_type                    float64\n",
      "fare_amount                     float64\n",
      "extra                           float64\n",
      "mta_tax                         float64\n",
      "tip_amount                      float64\n",
      "tolls_amount                    float64\n",
      "improvement_surcharge           float64\n",
      "total_amount                    float64\n",
      "congestion_surcharge            float64\n",
      "dtype: object\n"
     ]
    }
   ],
   "source": [
    "print(df.dtypes)"
   ]
  },
  {
   "cell_type": "code",
   "execution_count": null,
   "id": "134d5de6",
   "metadata": {},
   "outputs": [],
   "source": []
  }
 ],
 "metadata": {
  "kernelspec": {
   "display_name": "Python 3 (ipykernel)",
   "language": "python",
   "name": "python3"
  },
  "language_info": {
   "codemirror_mode": {
    "name": "ipython",
    "version": 3
   },
   "file_extension": ".py",
   "mimetype": "text/x-python",
   "name": "python",
   "nbconvert_exporter": "python",
   "pygments_lexer": "ipython3",
   "version": "3.9.13"
  }
 },
 "nbformat": 4,
 "nbformat_minor": 5
}
